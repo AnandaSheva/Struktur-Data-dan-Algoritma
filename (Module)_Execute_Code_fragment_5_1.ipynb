{
  "nbformat": 4,
  "nbformat_minor": 0,
  "metadata": {
    "colab": {
      "provenance": [],
      "authorship_tag": "ABX9TyOyOTJpiG91lutXij3w0tbv",
      "include_colab_link": true
    },
    "kernelspec": {
      "name": "python3",
      "display_name": "Python 3"
    },
    "language_info": {
      "name": "python"
    }
  },
  "cells": [
    {
      "cell_type": "markdown",
      "metadata": {
        "id": "view-in-github",
        "colab_type": "text"
      },
      "source": [
        "<a href=\"https://colab.research.google.com/github/AnandaSheva/Struktur-Data-dan-Algoritma/blob/main/(Module)_Execute_Code_fragment_5_1.ipynb\" target=\"_parent\"><img src=\"https://colab.research.google.com/assets/colab-badge.svg\" alt=\"Open In Colab\"/></a>"
      ]
    },
    {
      "cell_type": "markdown",
      "source": [
        "**R-5.1** Execute the experiment from Code fragment 5.1 and compare the results on your system to those we report in Code fragment 5.2"
      ],
      "metadata": {
        "id": "wablN8MwIOM8"
      }
    },
    {
      "cell_type": "code",
      "execution_count": null,
      "metadata": {
        "colab": {
          "base_uri": "https://localhost:8080/"
        },
        "id": "HxHWh2gZFxkS",
        "outputId": "e7073629-d9f8-48b8-d401-13d94294e3bc"
      },
      "outputs": [
        {
          "output_type": "stream",
          "name": "stdout",
          "text": [
            "Length:   0; Size in bytes:   56\n",
            "Length:   1; Size in bytes:   88\n",
            "Length:   2; Size in bytes:   88\n",
            "Length:   3; Size in bytes:   88\n",
            "Length:   4; Size in bytes:   88\n",
            "Length:   5; Size in bytes:  120\n",
            "Length:   6; Size in bytes:  120\n",
            "Length:   7; Size in bytes:  120\n",
            "Length:   8; Size in bytes:  120\n",
            "Length:   9; Size in bytes:  184\n",
            "Length:  10; Size in bytes:  184\n",
            "Length:  11; Size in bytes:  184\n",
            "Length:  12; Size in bytes:  184\n",
            "Length:  13; Size in bytes:  184\n",
            "Length:  14; Size in bytes:  184\n",
            "Length:  15; Size in bytes:  184\n",
            "Length:  16; Size in bytes:  184\n",
            "Length:  17; Size in bytes:  248\n",
            "Length:  18; Size in bytes:  248\n",
            "Length:  19; Size in bytes:  248\n",
            "Length:  20; Size in bytes:  248\n",
            "Length:  21; Size in bytes:  248\n",
            "Length:  22; Size in bytes:  248\n",
            "Length:  23; Size in bytes:  248\n",
            "Length:  24; Size in bytes:  248\n",
            "Length:  25; Size in bytes:  312\n",
            "Length:  26; Size in bytes:  312\n"
          ]
        }
      ],
      "source": [
        "import sys\n",
        "n = 27\n",
        "data = []\n",
        "for k in range(n):\n",
        "  a = len(data)\n",
        "  b = sys.getsizeof(data)\n",
        "  print('Length: {0:3d}; Size in bytes: {1:4d}' .format(a, b))\n",
        "  data.append(None)"
      ]
    }
  ]
}