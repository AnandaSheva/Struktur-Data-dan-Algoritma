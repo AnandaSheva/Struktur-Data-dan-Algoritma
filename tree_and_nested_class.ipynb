{
  "nbformat": 4,
  "nbformat_minor": 0,
  "metadata": {
    "colab": {
      "provenance": [],
      "authorship_tag": "ABX9TyNaHHkqLKn8v5NB7hxT0sfw",
      "include_colab_link": true
    },
    "kernelspec": {
      "name": "python3",
      "display_name": "Python 3"
    },
    "language_info": {
      "name": "python"
    }
  },
  "cells": [
    {
      "cell_type": "markdown",
      "metadata": {
        "id": "view-in-github",
        "colab_type": "text"
      },
      "source": [
        "<a href=\"https://colab.research.google.com/github/AnandaSheva/Struktur-Data-dan-Algoritma/blob/main/tree_and_nested_class.ipynb\" target=\"_parent\"><img src=\"https://colab.research.google.com/assets/colab-badge.svg\" alt=\"Open In Colab\"/></a>"
      ]
    },
    {
      "cell_type": "code",
      "execution_count": null,
      "metadata": {
        "id": "8tGno_SblPOX"
      },
      "outputs": [],
      "source": [
        "class Tree:\n",
        "    \"\"\"Abstract base class representing a tree structure.\"\"\"\n",
        "\n",
        "    #------------------------------- nested Position class -------------------------------\n",
        "    class Position:\n",
        "        \"\"\"An abstraction representing the location of a single element.\"\"\"\n",
        "\n",
        "        def element(self):\n",
        "            \"\"\"Return the element stored at this Position.\"\"\"\n",
        "            raise NotImplementedError(\"Must be implemented by subclass\")\n",
        "\n",
        "        def eq(self, other):\n",
        "            \"\"\"Return True if other Position represents the same location.\"\"\"\n",
        "            raise NotImplementedError(\"Must be implemented by subclass\")\n",
        "\n",
        "        def ne(self, other):\n",
        "            \"\"\"Return True if other does not represent the same location.\"\"\"\n",
        "            return not self.eq(other)  # opposite of eq\n",
        "\n",
        "    # ---------- abstract methods that concrete subclass must support ----------\n",
        "    def root(self):\n",
        "        \"\"\"Return Position representing the tree's root (or None if empty).\"\"\"\n",
        "        raise NotImplementedError(\"Must be implemented by subclass\")\n",
        "\n",
        "    def parent(self, p):\n",
        "        \"\"\"Return Position representing p's parent (or None if p is root).\"\"\"\n",
        "        raise NotImplementedError(\"Must be implemented by subclass\")\n",
        "\n",
        "    def num_children(self, p):\n",
        "        \"\"\"Return the number of children that Position p has.\"\"\"\n",
        "        raise NotImplementedError(\"Must be implemented by subclass\")\n",
        "\n",
        "    def children(self, p):\n",
        "        \"\"\"Generate an iteration of Positions representing p's children.\"\"\"\n",
        "        raise NotImplementedError(\"Must be implemented by subclass\")\n",
        "\n",
        "    def _len_(self):\n",
        "        \"\"\"Return the total number of elements in the tree.\"\"\"\n",
        "        raise NotImplementedError(\"Must be implemented by subclass\")\n",
        "\n",
        "    # ---------- concrete methods implemented in this class ----------\n",
        "    def is_root(self, p):\n",
        "        \"\"\"Return True if Position p represents the root of the tree.\"\"\"\n",
        "        return self.root() == p\n",
        "\n",
        "    def is_leaf(self, p):\n",
        "        \"\"\"Return True if Position p does not have any children.\"\"\"\n",
        "        return self.num_children(p) == 0\n",
        "\n",
        "    def is_empty(self):\n",
        "        \"\"\"Return True if the tree is empty.\"\"\"\n",
        "        return len(self) == 0"
      ]
    }
  ]
}